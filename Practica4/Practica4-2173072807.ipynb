{
 "cells": [
  {
   "cell_type": "markdown",
   "metadata": {},
   "source": []
  },
  {
   "cell_type": "code",
   "execution_count": 9,
   "metadata": {},
   "outputs": [],
   "source": [
    "#UNIVERSIDAD AUTONOMA METROPOLITANA UNIDAD LERMA\n",
    "#WENDY JAQUELINE HERNANDEZ\n",
    "#Para crear y análizar redes\n",
    "import networkx as nx\n",
    "#Para dibujar redes y graficar funciones\n",
    "import matplotlib.pyplot as plt\n",
    "#Para leer desde un archivo\n",
    "import pandas as pd \n",
    "import numpy as np\n",
    "#Para generar errores aleatorios\n",
    "import random"
   ]
  },
  {
   "cell_type": "code",
   "execution_count": 126,
   "metadata": {},
   "outputs": [],
   "source": [
    "lista_enlaces = [(\"Alicia\",\"Beto\"),\n",
    "             (\"Carlos\",\"Alicia\"),\n",
    "             (\"Alicia\",\"David\"),\n",
    "             (\"Alicia\",\"Carmen\"),\n",
    "             (\"Alicia\",\"Monica\"),\n",
    "             (\"Beto\",\"Jorge\"),\n",
    "             (\"Jorge\",\"Enrique\"),\n",
    "             (\"Enrique\",\"Rosa\"),\n",
    "             (\"Rosa\",\"Jorge\"),\n",
    "             (\"Enrique\",\"Irene\"),\n",
    "             (\"Irene\",\"Jorge\"),\n",
    "             (\"Irene\",\"Rosa\"),\n",
    "             (\"Carmen\",\"Monica\"),\n",
    "             (\"David\",\"Carlos\"),\n",
    "             (\"Carlos\",\"Monica\"),\n",
    "             (\"Carmen\",\"Irene\")]\n",
    "\n",
    "G = nx.Graph(lista_enlaces)"
   ]
  },
  {
   "cell_type": "markdown",
   "metadata": {},
   "source": [
    "Funciones para imprimir la informacion de la red\n",
    "ACTIVIDAD 1: Información general de la red\n",
    "Coloque la función imprime_informacion que se creo en anteriores prácticas. Esta función imprime la información de la red. Recibe la red G e imprime el numero de nodos, numero de enlaces, diámetro, y densidad de la red G."
   ]
  },
  {
   "cell_type": "code",
   "execution_count": 10,
   "metadata": {},
   "outputs": [
    {
     "name": "stdout",
     "output_type": "stream",
     "text": [
      "Informacion de la red: \n",
      "- nodos = 10\n",
      "- enlaces = 16\n",
      "- diámetro = 4\n",
      "- densidad = 0.35555555555555557\n",
      "Name: \n",
      "Type: Graph\n",
      "Number of nodes: 10\n",
      "Number of edges: 16\n",
      "Average degree:   3.2000\n"
     ]
    }
   ],
   "source": [
    "def imprime_informacion(G):\n",
    "    # nodos\n",
    "    n = len(nx.nodes(G))\n",
    "    # enlaces\n",
    "    m = len(nx.edges(G))\n",
    "    # diametro\n",
    "    d = nx.diameter(G)\n",
    "    # densidad\n",
    "    densidad = nx.density(G)\n",
    "    print(\"Informacion de la red: \\n- nodos = \" + str(n) +\n",
    "          \"\\n- enlaces = \" + str(m) +\n",
    "          \"\\n- diámetro = \" + str(d) +\n",
    "         \"\\n- densidad = \" + str(densidad))\n",
    "    # Devuelve informacion de la red\n",
    "    s = nx.info(G)\n",
    "    print(s)\n",
    "imprime_informacion(G)"
   ]
  },
  {
   "cell_type": "markdown",
   "metadata": {},
   "source": [
    "## ACTVIDAD 2: Distribución de grados\n",
    "Coloque la función grafica_distribucion_grados que se creo en anteriores prácticas. Esta funcion grafica la distribucion de grados y en este caso no devuelve nada. Recibe la red G y la variable nombre_dg. Cálcula, imprime y gráfica la distribución de grados. La gráfica la guarda en un archivo png con nombre almacenado en la variable nombre_dg. Devuleve la distribución de grados"
   ]
  },
  {
   "cell_type": "code",
   "execution_count": 127,
   "metadata": {},
   "outputs": [
    {
     "name": "stdout",
     "output_type": "stream",
     "text": [
      "[0, 0, 2, 5, 2, 1]\n"
     ]
    },
    {
     "data": {
      "text/plain": [
       "<Figure size 432x288 with 0 Axes>"
      ]
     },
     "metadata": {},
     "output_type": "display_data"
    }
   ],
   "source": [
    "def grafica_distribucion_grados(G, nombre_dg):\n",
    "    dist_grados = nx.degree_histogram(G)\n",
    "    print(dist_grados)\n",
    "    plt.title(\"Distribucion de Grados\")\n",
    "    plt.plot(dist_grados) \n",
    "    plt.xlabel(\"grado\")\n",
    "    plt.ylabel(\"# nodos\")\n",
    "    plt.savefig(nombre_dg + \".png\")\n",
    "    # la siguiente instruccion limpia la figura, evitando que al graficar varias figuras, estas no se encimen \n",
    "    plt.clf()\n",
    "    return dist_grados\n",
    "dist_grados = grafica_distribucion_grados(G, \"distribucion_amigos\")"
   ]
  },
  {
   "cell_type": "markdown",
   "metadata": {},
   "source": [
    "# ACTIVIDAD 3: Mapa de calor por grado nodal\n",
    "Coloque la función mapa_calor_grado que se creo en anteriores prácticas. Esta función gráfica el mapa de calor de la red G. Recibe como parámetros a la red G y la variable nombre_red. Grafica el mapa de calor y lo guarda en un archivo png con el nombre alamcenado en nombre_red."
   ]
  },
  {
   "cell_type": "code",
   "execution_count": 32,
   "metadata": {},
   "outputs": [],
   "source": [
    "def mapa_calor_Red(G, nombre_mcalor_Red):\n",
    "    degree_map = {node:nx.degree(G, node) for node in G.nodes()}\n",
    "    #valores máximo y mínimos de grado\n",
    "    max_degree = max(degree_map.values())\n",
    "    min_degree = min(degree_map.values())\n",
    "    #el grado nodal nos da el color de nodo, el cual se mapea con el mapa de color\n",
    "    colores_nodos = list(degree_map.values())\n",
    "    mapa_color = plt.get_cmap('cool')\n",
    "    #dibujamos la red\n",
    "    nx.draw(G, cmap=mapa_color, node_color=colores_nodos, with_labels=True)\n",
    "    #dibujamos la barra de color\n",
    "    sm = plt.cm.ScalarMappable(cmap=mapa_color,norm=plt.Normalize(vmin = min_degree, vmax=max_degree))\n",
    "    cbar = plt.colorbar(sm)\n",
    "    cbar.set_label('red')\n",
    "    plt.savefig(nombre_mcalor_red + \".png\")\n",
    "    plt.show()\n",
    "    # la siguiente instruccion limpia la figura, evitando que al graficar varias figuras, estas no se encimen \n",
    "    plt.clf()"
   ]
  },
  {
   "cell_type": "markdown",
   "metadata": {},
   "source": [
    "# Funciones para análizar la red sometida a fallos o ataques"
   ]
  },
  {
   "cell_type": "markdown",
   "metadata": {},
   "source": [
    "## ACTIVIDAD 4: Número de componentes conectado"
   ]
  },
  {
   "cell_type": "markdown",
   "metadata": {},
   "source": [
    "Complete la siguiente función llamada num_componentes_conectados. Esta función recibe como parámetro la red G y devuelve el número de componentes conectados de G. Utilizar los métodos ya diseñados en python para el calculo de componentes conectados de una red, ver https://networkx.org/documentation/stable/reference/algorithms/component.html. "
   ]
  },
  {
   "cell_type": "markdown",
   "metadata": {},
   "source": [
    "## ACTIVIDAD 5: Proporción del componente gigante"
   ]
  },
  {
   "cell_type": "markdown",
   "metadata": {},
   "source": [
    "Complete la siguiente función llamada prop_componente_gigante que recibe como parámetro la red G y devuelve al proporción de nodos que tiene el componente gigante con respecto a los nodos que tiene G, este valor debe ser un número entre 0 y 1. Utilizar los métodos ya diseñados en python para el calculo de componentes conectados de una red, ver https://networkx.org/documentation/stable/reference/algorithms/component.html. Recuerde que la función len(A) le permite calcular el número de elementos en un conjunto o lista A."
   ]
  },
  {
   "cell_type": "markdown",
   "metadata": {},
   "source": [
    "## ACTIVIDAD 6: Graficar dos funciones en una misma figura\n",
    "Funcion que grafica dos funciones en una misma figura. Comente lo que ocurre en cada línea de código de la función\n",
    "\n",
    "Parámetros:\n",
    "\n",
    "1) titulo : texto\n",
    "\n",
    "2) f1_valores: lista de numeros\n",
    "\n",
    "3) f2_valores: lista de numeros\n",
    "\n",
    "4) f1_leyenda: texto\n",
    "\n",
    "5) f2_leyenda: texto\n",
    "\n",
    "6) ejex_etiqueta: texto\n",
    "\n",
    "7) ejey_etiqueta: texto"
   ]
  },
  {
   "cell_type": "code",
   "execution_count": 169,
   "metadata": {},
   "outputs": [],
   "source": [
    "def grafica_funciones(titulo,f1_valores, f2_valores,ejex,f1_leyenda, f2_leyenda ,ejex_etiqueta, ejey_etiqueta):\n",
    "    plt.title(titulo)\n",
    "    if ejex == None:\n",
    "        plt.plot(f1_valores, label=f1_leyenda)  \n",
    "        plt.plot(f2_valores, label=f2_leyenda)\n",
    "    else:\n",
    "        plt.plot(ejex,f1_valores, label=f1_leyenda)  \n",
    "        plt.plot(ejex,f2_valores, label=f2_leyenda)\n",
    "    plt.xlabel(ejex_etiqueta)\n",
    "    plt.ylabel(ejey_etiqueta)\n",
    "    plt.legend()\n",
    "    plt.show()\n",
    "\n",
    "\n",
    "def prop_componente_gigante(G, n):\n",
    "    \"\"\"\n",
    "    Recibe una red y el número de nodos de esta y regresa la porporción del\n",
    "    componente gigante.\n",
    "\n",
    "    Parámetros\n",
    "    ----------\n",
    "    G : Red\n",
    "        red generada con NetworkX.\n",
    "    n : Entero\n",
    "        Número de nodos de la red.\n",
    "\n",
    "    Returns\n",
    "    -------\n",
    "    prop_gc : Flotante\n",
    "        La proporción del componente gigante en relación al númmero de nodos\n",
    "        original en la red.\n",
    "\n",
    "    \"\"\"\n",
    "    \n",
    "    # creamos un generador de componentes\n",
    "    cc_gen = nx.connected_components(G)\n",
    "    \n",
    "    cc = [ ]\n",
    "    len_cc = [ ]\n",
    "    \n",
    "    # almacenamos los componentes usando el generador, ademas de crear \n",
    "    # una lista de las longitudes de cada componente\n",
    "    for i in cc_gen:\n",
    "        cc.append(i)\n",
    "        len_cc.append(len(i))\n",
    "        \n",
    "    # averiguamos cual es el inice del componete gigante en la lista\n",
    "    gc_indice = len_cc.index(max(len_cc))\n",
    "    \n",
    "    # se calcula la proporción del componente gigante\n",
    "    prop_gc = len(cc[gc_indice]) / n\n",
    "\n",
    "    return prop_gc\n",
    "\n",
    "\n",
    "def num_componentes_conectados(G):\n",
    "    \"\"\"\n",
    "    Recive una red y regresa la cantidad de sus componentes.\n",
    "\n",
    "    Parámetros\n",
    "    ----------\n",
    "    G : red\n",
    "        red generada con NetworkX.\n",
    "\n",
    "    Retorna\n",
    "    -------\n",
    "    num_cc : Entero\n",
    "        número de componentes de la red.\n",
    "\n",
    "    \"\"\"\n",
    "    \n",
    "    return nx.number_connected_components(G)"
   ]
  },
  {
   "cell_type": "markdown",
   "metadata": {},
   "source": [
    "# Funciones para simular de Errores"
   ]
  },
  {
   "cell_type": "markdown",
   "metadata": {},
   "source": [
    "## ACTIVIDAD 7: Función para simular un error\n",
    "Complete la función error(G) que simule un error en la red G. La función recibe una red G, elimina un nodo i aleatoreamente, puede utilizar el método choice de la librería random, vea https://www.w3schools.com/python/ref_random_choice.asp. La función devuelve la nueva red G (sin el nodo i)"
   ]
  },
  {
   "cell_type": "markdown",
   "metadata": {},
   "source": [
    "## ACTIVIDAD 8: Función para simular varios errores secuenciales\n",
    "Complete la función errores_secuenciales(G,num_errores) que recibe una red G y un entero \"num_errores\", el cuál indica la cantidad de errores que ocurrirán en la red. \n",
    "\n",
    "La función llama secuencialmente \"num_errores\" veces a la función error(G). Después de cada error almacena en un la lista \"num_cc_lista\" el número de componentes conectados de G y en otra lista la proporción del componente gigante \"prop_cg_lista\". Devuleve la tupla (num_cc_lista, prop_cg_lista). Debe utilizar a las funciones creadas en las actividades 4 y 5"
   ]
  },
  {
   "cell_type": "code",
   "execution_count": 201,
   "metadata": {},
   "outputs": [],
   "source": [
    "def error(G):\n",
    "    \"\"\"\n",
    "    Simula errores en una red, recibe una red, elimina aleatoriamente un nodo y\n",
    "    regresa la red.\n",
    "\n",
    "    \"\"\"\n",
    "    n = len(nx.nodes(G))\n",
    "    nodo_fallido = random.choice(list(n))\n",
    "    # Remueve el nodo elegido\n",
    "    G.remove_node(nodo_fallido)\n",
    "\n",
    "    return G\n",
    "\n",
    "\n",
    "def errores_secuenciales(G, num_errores):\n",
    "    \"\"\"\n",
    "    Realiza errores secuencialmente a una red.\n",
    "    Regresa una tupla con dos listas. \n",
    "    * una lista con los de componente conectados de cada error.\n",
    "    * una lista con la poroporción del componente gigante en cada .\n",
    "\n",
    "    \"\"\"\n",
    "    \n",
    "    cc_lista = list()\n",
    "    gc_lista = list()\n",
    "    n = len(G)\n",
    "    \n",
    "    for i in range(num_errores):\n",
    "        G = error(G)\n",
    "        num_cc = num_componentes_conectados(G)\n",
    "        tam_cg = prop_componente_gigante(G, n)\n",
    "        cc_lista.append(num_cc)\n",
    "        gc_lista.append(tam_cg)\n",
    "        \n",
    "    return (cc_lista, gc_lista)\n"
   ]
  },
  {
   "cell_type": "markdown",
   "metadata": {},
   "source": [
    "# Funciones para simular de Ataques"
   ]
  },
  {
   "cell_type": "markdown",
   "metadata": {},
   "source": [
    "## ACTIVIDAD 9: Función para obtener el nodo de grado más alto de una red\n",
    "Complete la función nodo_mayor_grado(G) que recibe la red G y devuelve el nodo de mayor grado. "
   ]
  },
  {
   "cell_type": "markdown",
   "metadata": {},
   "source": [
    "## ACTIVIDAD 10: Función para simular un ataque por grado nodal\n",
    "Complete la función ataque_grado(G) que simule un ataque por grado nodal en la red G. La función recibe una red G, elimina el nodo i de más alto grado grado y devuelve la nueva red G (sin el nodo i). Debe utilizar la función de la actividad 9"
   ]
  },
  {
   "cell_type": "markdown",
   "metadata": {},
   "source": [
    "## ACTIVIDAD 11: Función para simular varios ataques (por grado nodal) secuenciales\n",
    "Complete la función ataques_secuenciales(G,num_ataques). La función recibe una red G y un entero \"num_ataques\" que indica la cantidad de ataques que ocurrirán en la red. Secuencialmente llama \"num_ataques\" veces a la función ataque(G). Después de cada ataque almacena en una lista \"num_cc_lista\" el número de componentes conectados de G y en otra lista \"prop_cg_lista\" la proporción del componente gigante. Devuleve la tupla (num_cc_lista, prop_cg_lista)."
   ]
  },
  {
   "cell_type": "code",
   "execution_count": 145,
   "metadata": {},
   "outputs": [],
   "source": [
    "def ataque(G):\n",
    "    \"\"\"\n",
    "    Simula atqques en una red, recibe una red, elimina el nodo con mayor grado\n",
    "    y regresa la red.\n",
    "\n",
    "    \"\"\"\n",
    "    \n",
    "    nodos = G.nodes() \n",
    "    deg_max = 0    \n",
    "    nodo_atacado = None\n",
    "    \n",
    "    # obtiene el nodo de mayor grado\n",
    "    for i in list(nodos):\n",
    "        if G.degree[i] > deg_max:\n",
    "            \n",
    "            deg_max = G.degree[i]\n",
    "            \n",
    "            nodo_atacado = i\n",
    "    \n",
    "    # elimina el nodo atacado\n",
    "    if nodo_atacado:\n",
    "        G.remove_node(nodo_atacado)\n",
    "    else:\n",
    "        error(G)\n",
    "    \n",
    "    return G\n",
    "\n",
    "\n",
    "def ataques_secuenciales(G, num_ataques):\n",
    "    \"\"\"\n",
    "     Realiza ataques secuencialmente a una red.\n",
    "     Regresa una tupla con dos listas. \n",
    "    * una lista con los de componente conectados de cada error.\n",
    "    * una lista con la poroporción del componente gigante en cada error.\n",
    "\n",
    "    \"\"\"\n",
    "    \n",
    "    cc_lista = list()\n",
    "    gc_lista = list()\n",
    "    n = len(G)\n",
    "    \n",
    "    for i in range(num_ataques):\n",
    "        G = ataque(G)\n",
    "        num_cc = num_componentes_conectados(G)\n",
    "        tam_cg = prop_componente_gigante(G,n)\n",
    "        cc_lista.append(num_cc)\n",
    "        gc_lista.append(tam_cg)\n",
    "        \n",
    "    return (cc_lista, gc_lista)"
   ]
  },
  {
   "cell_type": "markdown",
   "metadata": {},
   "source": [
    "# Evaluación de redes sometidas a errores - Red de escala libre vs. red de aleatoria"
   ]
  },
  {
   "cell_type": "markdown",
   "metadata": {},
   "source": [
    "## ACTIVIDAD 12: Creación de una red de escala libre \n",
    "Creamos una red de escala libre Barabasi-Albert de 100 nodos y con parámetro m=5. Imprimos la información de rede"
   ]
  },
  {
   "cell_type": "code",
   "execution_count": 99,
   "metadata": {},
   "outputs": [],
   "source": [
    "sf_G = nx.barabasi_albert_graph(1000, 5)"
   ]
  },
  {
   "cell_type": "markdown",
   "metadata": {},
   "source": [
    "## ACTIVIDAD 13: Creación de unaa red aleatoria\n",
    "Creamos una red aleatoria Erdos-Renyi de 100 nodos y con parámetro p=0.1. Imprimos la información de la red"
   ]
  },
  {
   "cell_type": "code",
   "execution_count": 150,
   "metadata": {},
   "outputs": [],
   "source": [
    "rnd_G = nx.gnp_random_graph(1000, 0.1)"
   ]
  },
  {
   "cell_type": "code",
   "execution_count": 151,
   "metadata": {},
   "outputs": [],
   "source": [
    "rnd_G2 = nx.Graph(rnd_G)\n",
    "sf_G2 = nx.Graph(sf_G)"
   ]
  },
  {
   "cell_type": "markdown",
   "metadata": {},
   "source": [
    "## ACTIVIDAD 14: Distribución de grados\n",
    "Llama a la función para graficar las distribucion de grados de las redes creadas y guarda ambas imagenes. Cada función llamela en una celda separada de código para que así pueda visualizar ambas figuras"
   ]
  },
  {
   "cell_type": "code",
   "execution_count": 102,
   "metadata": {},
   "outputs": [],
   "source": [
    "dist_sf_G = nx.degree_histogram(sf_G)\n",
    "dist_norm_sf_G = [ ]\n",
    "for i in dist_sf_G:\n",
    "    dist_norm_sf_G.append(i / 1000)"
   ]
  },
  {
   "cell_type": "code",
   "execution_count": 103,
   "metadata": {},
   "outputs": [],
   "source": [
    "dist_rnd = nx.degree_histogram(rnd_G)\n",
    "dist_norm_rnd_G = [ ]\n",
    "for i in dist_rnd:\n",
    "    dist_norm_rnd_G.append(i / 1000)\n"
   ]
  },
  {
   "cell_type": "code",
   "execution_count": 59,
   "metadata": {},
   "outputs": [
    {
     "data": {
      "image/png": "[encoded data removed]",
      "text/plain": [
       "<Figure size 432x288 with 1 Axes>"
      ]
     },
     "metadata": {
      "needs_background": "light"
     },
     "output_type": "display_data"
    }
   ],
   "source": [
    "grafica_funciones(\"Distribución normal de grados\", dist_norm_rnd_G, \n",
    "                  dist_norm_sf_G, None, \"Aleatoria\", \"Escala Libre\", \n",
    "                  \"Grado Nodal\", \"Número de Nodos Normalizado\" )"
   ]
  },
  {
   "cell_type": "markdown",
   "metadata": {},
   "source": [
    "## ACTIVIDAD 15: Mapas de calor por grado nodal\n",
    "Llama a la función para graficar los mapas de calor por grado nodal de las redes creadas y guarda ambas imagenes. Cada función llamela en una celda separada de código para que así pueda visualizar ambas figuras"
   ]
  },
  {
   "cell_type": "code",
   "execution_count": null,
   "metadata": {
    "scrolled": true
   },
   "outputs": [],
   "source": []
  },
  {
   "cell_type": "code",
   "execution_count": null,
   "metadata": {
    "scrolled": true
   },
   "outputs": [],
   "source": []
  },
  {
   "cell_type": "markdown",
   "metadata": {},
   "source": [
    "## Simulación de errores secuenciales en la red de escala libre\n",
    "Utilizando la función errores_secuenciales simula 99 errores en la red de escala libre. Almacena las listas de: cantidad de componentes conectados y las proporcion del componente gigante.\n",
    "\n",
    "Note que la función errores_secuenciales recibe como paŕametro una copia de la red que se va a evaluar, esto es importante porque de otro modo se modificará la red original."
   ]
  },
  {
   "cell_type": "markdown",
   "metadata": {},
   "source": [
    "## ACTIVIDAD 16: Simulación de errores secuenciales en la red aleatoria\n",
    "Utilizando la función errores_secuenciales simula 99 errores en la red aleatoria. Almacena las listas de: cantidad de componentes conectados y las proporcion del componente gigante."
   ]
  },
  {
   "cell_type": "code",
   "execution_count": 203,
   "metadata": {},
   "outputs": [
    {
     "ename": "TypeError",
     "evalue": "'int' object is not iterable",
     "output_type": "error",
     "traceback": [
      "\u001b[1;31m---------------------------------------------------------------------------\u001b[0m",
      "\u001b[1;31mTypeError\u001b[0m                                 Traceback (most recent call last)",
      "\u001b[1;32m<ipython-input-203-e6549cf007d1>\u001b[0m in \u001b[0;36m<module>\u001b[1;34m\u001b[0m\n\u001b[1;32m----> 1\u001b[1;33m \u001b[0mrnd_cc_error_lst\u001b[0m\u001b[1;33m,\u001b[0m \u001b[0mrnd_gc_error_lst\u001b[0m \u001b[1;33m=\u001b[0m \u001b[0merrores_secuenciales\u001b[0m\u001b[1;33m(\u001b[0m\u001b[0mrnd_G\u001b[0m\u001b[1;33m,\u001b[0m \u001b[1;36m999\u001b[0m\u001b[1;33m)\u001b[0m\u001b[1;33m\u001b[0m\u001b[1;33m\u001b[0m\u001b[0m\n\u001b[0m\u001b[0;32m      2\u001b[0m \u001b[0msf_cc_error_lst\u001b[0m\u001b[1;33m,\u001b[0m \u001b[0msf_gc_error_lst\u001b[0m \u001b[1;33m=\u001b[0m \u001b[0merrores_secuenciales\u001b[0m\u001b[1;33m(\u001b[0m\u001b[0msf_G\u001b[0m\u001b[1;33m,\u001b[0m \u001b[1;36m999\u001b[0m\u001b[1;33m)\u001b[0m\u001b[1;33m\u001b[0m\u001b[1;33m\u001b[0m\u001b[0m\n",
      "\u001b[1;32m<ipython-input-201-1cc487f20640>\u001b[0m in \u001b[0;36merrores_secuenciales\u001b[1;34m(G, num_errores)\u001b[0m\n\u001b[0;32m     27\u001b[0m \u001b[1;33m\u001b[0m\u001b[0m\n\u001b[0;32m     28\u001b[0m     \u001b[1;32mfor\u001b[0m \u001b[0mi\u001b[0m \u001b[1;32min\u001b[0m \u001b[0mrange\u001b[0m\u001b[1;33m(\u001b[0m\u001b[0mnum_errores\u001b[0m\u001b[1;33m)\u001b[0m\u001b[1;33m:\u001b[0m\u001b[1;33m\u001b[0m\u001b[1;33m\u001b[0m\u001b[0m\n\u001b[1;32m---> 29\u001b[1;33m         \u001b[0mG\u001b[0m \u001b[1;33m=\u001b[0m \u001b[0merror\u001b[0m\u001b[1;33m(\u001b[0m\u001b[0mG\u001b[0m\u001b[1;33m)\u001b[0m\u001b[1;33m\u001b[0m\u001b[1;33m\u001b[0m\u001b[0m\n\u001b[0m\u001b[0;32m     30\u001b[0m         \u001b[0mnum_cc\u001b[0m \u001b[1;33m=\u001b[0m \u001b[0mnum_componentes_conectados\u001b[0m\u001b[1;33m(\u001b[0m\u001b[0mG\u001b[0m\u001b[1;33m)\u001b[0m\u001b[1;33m\u001b[0m\u001b[1;33m\u001b[0m\u001b[0m\n\u001b[0;32m     31\u001b[0m         \u001b[0mtam_cg\u001b[0m \u001b[1;33m=\u001b[0m \u001b[0mprop_componente_gigante\u001b[0m\u001b[1;33m(\u001b[0m\u001b[0mG\u001b[0m\u001b[1;33m,\u001b[0m \u001b[0mn\u001b[0m\u001b[1;33m)\u001b[0m\u001b[1;33m\u001b[0m\u001b[1;33m\u001b[0m\u001b[0m\n",
      "\u001b[1;32m<ipython-input-201-1cc487f20640>\u001b[0m in \u001b[0;36merror\u001b[1;34m(G)\u001b[0m\n\u001b[0;32m      6\u001b[0m     \"\"\"\n\u001b[0;32m      7\u001b[0m     \u001b[0mn\u001b[0m \u001b[1;33m=\u001b[0m \u001b[0mlen\u001b[0m\u001b[1;33m(\u001b[0m\u001b[0mnx\u001b[0m\u001b[1;33m.\u001b[0m\u001b[0mnodes\u001b[0m\u001b[1;33m(\u001b[0m\u001b[0mG\u001b[0m\u001b[1;33m)\u001b[0m\u001b[1;33m)\u001b[0m\u001b[1;33m\u001b[0m\u001b[1;33m\u001b[0m\u001b[0m\n\u001b[1;32m----> 8\u001b[1;33m     \u001b[0mnodo_fallido\u001b[0m \u001b[1;33m=\u001b[0m \u001b[0mrandom\u001b[0m\u001b[1;33m.\u001b[0m\u001b[0mchoice\u001b[0m\u001b[1;33m(\u001b[0m\u001b[0mlist\u001b[0m\u001b[1;33m(\u001b[0m\u001b[0mn\u001b[0m\u001b[1;33m)\u001b[0m\u001b[1;33m)\u001b[0m\u001b[1;33m\u001b[0m\u001b[1;33m\u001b[0m\u001b[0m\n\u001b[0m\u001b[0;32m      9\u001b[0m     \u001b[1;31m# Remueve el nodo elegido\u001b[0m\u001b[1;33m\u001b[0m\u001b[1;33m\u001b[0m\u001b[1;33m\u001b[0m\u001b[0m\n\u001b[0;32m     10\u001b[0m     \u001b[0mG\u001b[0m\u001b[1;33m.\u001b[0m\u001b[0mremove_node\u001b[0m\u001b[1;33m(\u001b[0m\u001b[0mnodo_fallido\u001b[0m\u001b[1;33m)\u001b[0m\u001b[1;33m\u001b[0m\u001b[1;33m\u001b[0m\u001b[0m\n",
      "\u001b[1;31mTypeError\u001b[0m: 'int' object is not iterable"
     ]
    }
   ],
   "source": [
    "rnd_cc_error_lst, rnd_gc_error_lst = errores_secuenciales(rnd_G, 999)\n",
    "sf_cc_error_lst, sf_gc_error_lst = errores_secuenciales(sf_G, 999)"
   ]
  },
  {
   "cell_type": "markdown",
   "metadata": {},
   "source": [
    "## ACTIVIDAD 17: Grafica de los componentes conectados vs. número de errores\n",
    "Utilizando la función grafica_funciones, grafique la cantidad de componentes conectados vs el número de errroes para las pruebas realizadas sobre la red de escala libre y la red aleatoria"
   ]
  },
  {
   "cell_type": "code",
   "execution_count": 184,
   "metadata": {
    "scrolled": true
   },
   "outputs": [
    {
     "data": {
      "image/png": "[encoded data removed]",
      "text/plain": [
       "<Figure size 432x288 with 1 Axes>"
      ]
     },
     "metadata": {
      "needs_background": "light"
     },
     "output_type": "display_data"
    }
   ],
   "source": [
    "grafica_funciones(\"Componentes Conectados - Erroes\", rnd_cc_error_lst, \n",
    "                  sf_cc_error_lst, None, \"Aleatoria\", \"Escala Libre\", \n",
    "                  \"Errores\", \"Componentes Conectados\"  )"
   ]
  },
  {
   "cell_type": "markdown",
   "metadata": {},
   "source": [
    "## ACTIVIDAD 18: Grafica de la proporción del componente gigante vs. número de errores\n",
    "Utilizando la función grafica_funciones, grafique la proporción del componente gigante vs el número de errrores para las pruebas realizadas sobre la red de escala libre y la red aleatoria"
   ]
  },
  {
   "cell_type": "code",
   "execution_count": 186,
   "metadata": {
    "scrolled": true
   },
   "outputs": [
    {
     "data": {
      "image/png": "[encoded data removed]",
      "text/plain": [
       "<Figure size 432x288 with 1 Axes>"
      ]
     },
     "metadata": {
      "needs_background": "light"
     },
     "output_type": "display_data"
    }
   ],
   "source": [
    "grafica_funciones(\"Proporción Componente Gigate - Errores\", rnd_gc_error_lst,\n",
    "                  sf_gc_error_lst, None, \"Aleatoria\", \"Escala Libre\", \n",
    "                  \"Errores\", \"Proporción del componente gigante\" )"
   ]
  },
  {
   "cell_type": "markdown",
   "metadata": {},
   "source": [
    "## ACTIVIDAD 19 Simulación de ataques (por grado nodal) secuenciales\n",
    "Utilizando la función ataques_secuenciales simula 99 ataques en cada una de las red de escala libre. Recuerde pasar como parámetro de la función una copia de la red, así como guardar los resultados que devuelve la función."
   ]
  },
  {
   "cell_type": "markdown",
   "metadata": {},
   "source": [
    "## ACTIVIDAD 20 Simulación de ataques (por grado nodal) secuenciales\n",
    "Utilizando la función ataques_secuenciales simula 99 ataques en cada una de las red de escala libre. Recuerde pasar como parámetro de la función una copia de la red, así como guardar los resultados que devuelve la función."
   ]
  },
  {
   "cell_type": "code",
   "execution_count": 204,
   "metadata": {},
   "outputs": [
    {
     "ename": "TypeError",
     "evalue": "'int' object is not iterable",
     "output_type": "error",
     "traceback": [
      "\u001b[1;31m---------------------------------------------------------------------------\u001b[0m",
      "\u001b[1;31mTypeError\u001b[0m                                 Traceback (most recent call last)",
      "\u001b[1;32m<ipython-input-204-e6549cf007d1>\u001b[0m in \u001b[0;36m<module>\u001b[1;34m\u001b[0m\n\u001b[1;32m----> 1\u001b[1;33m \u001b[0mrnd_cc_error_lst\u001b[0m\u001b[1;33m,\u001b[0m \u001b[0mrnd_gc_error_lst\u001b[0m \u001b[1;33m=\u001b[0m \u001b[0merrores_secuenciales\u001b[0m\u001b[1;33m(\u001b[0m\u001b[0mrnd_G\u001b[0m\u001b[1;33m,\u001b[0m \u001b[1;36m999\u001b[0m\u001b[1;33m)\u001b[0m\u001b[1;33m\u001b[0m\u001b[1;33m\u001b[0m\u001b[0m\n\u001b[0m\u001b[0;32m      2\u001b[0m \u001b[0msf_cc_error_lst\u001b[0m\u001b[1;33m,\u001b[0m \u001b[0msf_gc_error_lst\u001b[0m \u001b[1;33m=\u001b[0m \u001b[0merrores_secuenciales\u001b[0m\u001b[1;33m(\u001b[0m\u001b[0msf_G\u001b[0m\u001b[1;33m,\u001b[0m \u001b[1;36m999\u001b[0m\u001b[1;33m)\u001b[0m\u001b[1;33m\u001b[0m\u001b[1;33m\u001b[0m\u001b[0m\n",
      "\u001b[1;32m<ipython-input-201-1cc487f20640>\u001b[0m in \u001b[0;36merrores_secuenciales\u001b[1;34m(G, num_errores)\u001b[0m\n\u001b[0;32m     27\u001b[0m \u001b[1;33m\u001b[0m\u001b[0m\n\u001b[0;32m     28\u001b[0m     \u001b[1;32mfor\u001b[0m \u001b[0mi\u001b[0m \u001b[1;32min\u001b[0m \u001b[0mrange\u001b[0m\u001b[1;33m(\u001b[0m\u001b[0mnum_errores\u001b[0m\u001b[1;33m)\u001b[0m\u001b[1;33m:\u001b[0m\u001b[1;33m\u001b[0m\u001b[1;33m\u001b[0m\u001b[0m\n\u001b[1;32m---> 29\u001b[1;33m         \u001b[0mG\u001b[0m \u001b[1;33m=\u001b[0m \u001b[0merror\u001b[0m\u001b[1;33m(\u001b[0m\u001b[0mG\u001b[0m\u001b[1;33m)\u001b[0m\u001b[1;33m\u001b[0m\u001b[1;33m\u001b[0m\u001b[0m\n\u001b[0m\u001b[0;32m     30\u001b[0m         \u001b[0mnum_cc\u001b[0m \u001b[1;33m=\u001b[0m \u001b[0mnum_componentes_conectados\u001b[0m\u001b[1;33m(\u001b[0m\u001b[0mG\u001b[0m\u001b[1;33m)\u001b[0m\u001b[1;33m\u001b[0m\u001b[1;33m\u001b[0m\u001b[0m\n\u001b[0;32m     31\u001b[0m         \u001b[0mtam_cg\u001b[0m \u001b[1;33m=\u001b[0m \u001b[0mprop_componente_gigante\u001b[0m\u001b[1;33m(\u001b[0m\u001b[0mG\u001b[0m\u001b[1;33m,\u001b[0m \u001b[0mn\u001b[0m\u001b[1;33m)\u001b[0m\u001b[1;33m\u001b[0m\u001b[1;33m\u001b[0m\u001b[0m\n",
      "\u001b[1;32m<ipython-input-201-1cc487f20640>\u001b[0m in \u001b[0;36merror\u001b[1;34m(G)\u001b[0m\n\u001b[0;32m      6\u001b[0m     \"\"\"\n\u001b[0;32m      7\u001b[0m     \u001b[0mn\u001b[0m \u001b[1;33m=\u001b[0m \u001b[0mlen\u001b[0m\u001b[1;33m(\u001b[0m\u001b[0mnx\u001b[0m\u001b[1;33m.\u001b[0m\u001b[0mnodes\u001b[0m\u001b[1;33m(\u001b[0m\u001b[0mG\u001b[0m\u001b[1;33m)\u001b[0m\u001b[1;33m)\u001b[0m\u001b[1;33m\u001b[0m\u001b[1;33m\u001b[0m\u001b[0m\n\u001b[1;32m----> 8\u001b[1;33m     \u001b[0mnodo_fallido\u001b[0m \u001b[1;33m=\u001b[0m \u001b[0mrandom\u001b[0m\u001b[1;33m.\u001b[0m\u001b[0mchoice\u001b[0m\u001b[1;33m(\u001b[0m\u001b[0mlist\u001b[0m\u001b[1;33m(\u001b[0m\u001b[0mn\u001b[0m\u001b[1;33m)\u001b[0m\u001b[1;33m)\u001b[0m\u001b[1;33m\u001b[0m\u001b[1;33m\u001b[0m\u001b[0m\n\u001b[0m\u001b[0;32m      9\u001b[0m     \u001b[1;31m# Remueve el nodo elegido\u001b[0m\u001b[1;33m\u001b[0m\u001b[1;33m\u001b[0m\u001b[1;33m\u001b[0m\u001b[0m\n\u001b[0;32m     10\u001b[0m     \u001b[0mG\u001b[0m\u001b[1;33m.\u001b[0m\u001b[0mremove_node\u001b[0m\u001b[1;33m(\u001b[0m\u001b[0mnodo_fallido\u001b[0m\u001b[1;33m)\u001b[0m\u001b[1;33m\u001b[0m\u001b[1;33m\u001b[0m\u001b[0m\n",
      "\u001b[1;31mTypeError\u001b[0m: 'int' object is not iterable"
     ]
    }
   ],
   "source": [
    "rnd_cc_error_lst, rnd_gc_error_lst = errores_secuenciales(rnd_G, 999)\n",
    "sf_cc_error_lst, sf_gc_error_lst = errores_secuenciales(sf_G, 999)"
   ]
  },
  {
   "cell_type": "markdown",
   "metadata": {},
   "source": [
    "## ACTIVIDAD 21 Grafica de los componentes conectados vs. número de errores\n",
    "Utilizando la función grafica_funciones, grafique la proporción del componente gigante vs el número de errrores para las pruebas realizadas sobre la red de escala libre y la red aleatoria"
   ]
  },
  {
   "cell_type": "code",
   "execution_count": 188,
   "metadata": {
    "scrolled": false
   },
   "outputs": [
    {
     "ename": "NameError",
     "evalue": "name 'sf_cc_attack_lst' is not defined",
     "output_type": "error",
     "traceback": [
      "\u001b[1;31m---------------------------------------------------------------------------\u001b[0m",
      "\u001b[1;31mNameError\u001b[0m                                 Traceback (most recent call last)",
      "\u001b[1;32m<ipython-input-188-24ea29279999>\u001b[0m in \u001b[0;36m<module>\u001b[1;34m\u001b[0m\n\u001b[0;32m      1\u001b[0m grafica_funciones(\"Componentes Conectados - Ataques\", rnd_cc_attack_lst, \n\u001b[1;32m----> 2\u001b[1;33m                   \u001b[0msf_cc_attack_lst\u001b[0m\u001b[1;33m,\u001b[0m \u001b[1;32mNone\u001b[0m\u001b[1;33m,\u001b[0m \u001b[1;34m\"Aleatoria\"\u001b[0m\u001b[1;33m,\u001b[0m \u001b[1;34m\"Escala Libre\"\u001b[0m\u001b[1;33m,\u001b[0m\u001b[1;33m\u001b[0m\u001b[1;33m\u001b[0m\u001b[0m\n\u001b[0m\u001b[0;32m      3\u001b[0m                   \"Ataques\", \"Componentes Conectados\" )\n",
      "\u001b[1;31mNameError\u001b[0m: name 'sf_cc_attack_lst' is not defined"
     ]
    }
   ],
   "source": [
    "grafica_funciones(\"Componentes Conectados - Ataques\", rnd_cc_attack_lst, \n",
    "                  sf_cc_attack_lst, None, \"Aleatoria\", \"Escala Libre\", \n",
    "                  \"Ataques\", \"Componentes Conectados\" )"
   ]
  },
  {
   "cell_type": "markdown",
   "metadata": {},
   "source": [
    "## ACTIVIDAD 22: Grafica de la proporción del componente gigante vs. número de errores\n",
    "Utilizando la función grafica_funciones, grafique la proporción del componente gigante vs el número de errrores para las pruebas realizadas sobre la red de escala libre y la red aleatoria"
   ]
  },
  {
   "cell_type": "code",
   "execution_count": 202,
   "metadata": {
    "scrolled": true
   },
   "outputs": [
    {
     "ename": "NameError",
     "evalue": "name 'sf_gc_attack_lst' is not defined",
     "output_type": "error",
     "traceback": [
      "\u001b[1;31m---------------------------------------------------------------------------\u001b[0m",
      "\u001b[1;31mNameError\u001b[0m                                 Traceback (most recent call last)",
      "\u001b[1;32m<ipython-input-202-48cc1169b61a>\u001b[0m in \u001b[0;36m<module>\u001b[1;34m\u001b[0m\n\u001b[0;32m      1\u001b[0m grafica_funciones(\"Proporción Componente Gigate - Ataques\", rnd_gc_attack_lst,\n\u001b[1;32m----> 2\u001b[1;33m                   \u001b[0msf_gc_attack_lst\u001b[0m\u001b[1;33m,\u001b[0m \u001b[1;32mNone\u001b[0m\u001b[1;33m,\u001b[0m \u001b[1;34m\"Aleatoria\"\u001b[0m\u001b[1;33m,\u001b[0m \u001b[1;34m\"Escala Libre\"\u001b[0m\u001b[1;33m,\u001b[0m\u001b[1;33m\u001b[0m\u001b[1;33m\u001b[0m\u001b[0m\n\u001b[0m\u001b[0;32m      3\u001b[0m                   \"Ataques\", \"Proporción del componente gigante\" )\n",
      "\u001b[1;31mNameError\u001b[0m: name 'sf_gc_attack_lst' is not defined"
     ]
    }
   ],
   "source": [
    "grafica_funciones(\"Proporción Componente Gigate - Ataques\", rnd_gc_attack_lst,\n",
    "                  sf_gc_attack_lst, None, \"Aleatoria\", \"Escala Libre\", \n",
    "                  \"Ataques\", \"Proporción del componente gigante\" )"
   ]
  }
 ],
 "metadata": {
  "kernelspec": {
   "display_name": "Python 3",
   "language": "python",
   "name": "python3"
  },
  "language_info": {
   "codemirror_mode": {
    "name": "ipython",
    "version": 3
   },
   "file_extension": ".py",
   "mimetype": "text/x-python",
   "name": "python",
   "nbconvert_exporter": "python",
   "pygments_lexer": "ipython3",
   "version": "3.6.10"
  }
 },
 "nbformat": 4,
 "nbformat_minor": 4
}
