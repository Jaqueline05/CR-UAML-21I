{
 "cells": [
  {
   "cell_type": "markdown",
   "metadata": {},
   "source": [
    "# Importamos librerías a utilizar"
   ]
  },
  {
   "cell_type": "code",
   "execution_count": 1,
   "metadata": {},
   "outputs": [],
   "source": [
    "#Para crear y análizar redes\n",
    "import networkx as nx\n",
    "#Para dibujar redes y graficar funciones\n",
    "import matplotlib.pyplot as plt\n",
    "#Para leer desde un archivo\n",
    "import pandas as pd \n",
    "import numpy as np\n",
    "#Para generar errores aleatorios\n",
    "import random"
   ]
  },
  {
   "cell_type": "markdown",
   "metadata": {},
   "source": []
  },
  {
   "cell_type": "code",
   "execution_count": 1,
   "metadata": {},
   "outputs": [],
   "source": [
    "def imprime_informacion(G):\n",
    "    # nodos\n",
    "    n = len(nx.nodes(G))\n",
    "    # enlaces\n",
    "    m = len(nx.edges(G))\n",
    "    # diametro\n",
    "    d = nx.diameter(G)\n",
    "    # densidad\n",
    "    densidad = nx.density(G)\n",
    "    print(\"Informacion de la red: \\n- nodos = \" + str(n) +\n",
    "          \"\\n- enlaces = \" + str(m) +\n",
    "          \"\\n- diámetro = \" + str(d) +\n",
    "         \"\\n- densidad = \" + str(densidad))\n",
    "    # Devuelve informacion de la red\n",
    "    s = nx.info(G)\n",
    "    print(s)"
   ]
  },
  {
   "cell_type": "markdown",
   "metadata": {},
   "source": [
    "## ACTVIDAD 2: Distribución de grados\n",
    "Coloque la función grafica_distribucion_grados que se creo en anteriores prácticas. Esta funcion grafica la distribucion de grados y en este caso no devuelve nada. Recibe la red G y la variable nombre_dg. Cálcula, imprime y gráfica la distribución de grados. La gráfica la guarda en un archivo png con nombre almacenado en la variable nombre_dg. Devuleve la distribución de grados"
   ]
  },
  {
   "cell_type": "code",
   "execution_count": null,
   "metadata": {},
   "outputs": [],
   "source": []
  },
  {
   "cell_type": "markdown",
   "metadata": {},
   "source": [
    "# ACTIVIDAD 3: Mapa de calor por grado nodal\n",
    "Coloque la función mapa_calor_grado que se creo en anteriores prácticas. Esta función gráfica el mapa de calor de la red G. Recibe como parámetros a la red G y la variable nombre_red. Grafica el mapa de calor y lo guarda en un archivo png con el nombre alamcenado en nombre_red."
   ]
  },
  {
   "cell_type": "code",
   "execution_count": null,
   "metadata": {},
   "outputs": [],
   "source": []
  },
  {
   "cell_type": "markdown",
   "metadata": {},
   "source": [
    "# Funciones para análizar la red sometida a fallos o ataques"
   ]
  },
  {
   "cell_type": "markdown",
   "metadata": {},
   "source": [
    "## ACTIVIDAD 4: Número de componentes conectado"
   ]
  },
  {
   "cell_type": "markdown",
   "metadata": {},
   "source": [
    "Complete la siguiente función llamada num_componentes_conectados. Esta función recibe como parámetro la red G y devuelve el número de componentes conectados de G. Utilizar los métodos ya diseñados en python para el calculo de componentes conectados de una red, ver https://networkx.org/documentation/stable/reference/algorithms/component.html. "
   ]
  },
  {
   "cell_type": "code",
   "execution_count": 5,
   "metadata": {},
   "outputs": [],
   "source": [
    "def num_componentes_conectados(G):\n",
    "    \n",
    "    return num_cc"
   ]
  },
  {
   "cell_type": "markdown",
   "metadata": {},
   "source": [
    "## ACTIVIDAD 5: Proporción del componente gigante"
   ]
  },
  {
   "cell_type": "markdown",
   "metadata": {},
   "source": [
    "Complete la siguiente función llamada prop_componente_gigante que recibe como parámetro la red G y devuelve al proporción de nodos que tiene el componente gigante con respecto a los nodos que tiene G, este valor debe ser un número entre 0 y 1. Utilizar los métodos ya diseñados en python para el calculo de componentes conectados de una red, ver https://networkx.org/documentation/stable/reference/algorithms/component.html. Recuerde que la función len(A) le permite calcular el número de elementos en un conjunto o lista A."
   ]
  },
  {
   "cell_type": "code",
   "execution_count": 6,
   "metadata": {},
   "outputs": [],
   "source": [
    "def prop_componente_gigante(G):\n",
    "\n",
    "    return pcg"
   ]
  },
  {
   "cell_type": "markdown",
   "metadata": {},
   "source": [
    "## ACTIVIDAD 6: Graficar dos funciones en una misma figura\n",
    "Funcion que grafica dos funciones en una misma figura. Comente lo que ocurre en cada línea de código de la función\n",
    "\n",
    "Parámetros:\n",
    "\n",
    "1) titulo : texto\n",
    "\n",
    "2) f1_valores: lista de numeros\n",
    "\n",
    "3) f2_valores: lista de numeros\n",
    "\n",
    "4) f1_leyenda: texto\n",
    "\n",
    "5) f2_leyenda: texto\n",
    "\n",
    "6) ejex_etiqueta: texto\n",
    "\n",
    "7) ejey_etiqueta: texto"
   ]
  },
  {
   "cell_type": "code",
   "execution_count": 7,
   "metadata": {},
   "outputs": [],
   "source": [
    "def grafica_funciones(titulo,f1_valores, f2_valores,f1_leyenda, f2_leyenda ,ejex_etiqueta, ejey_etiqueta):\n",
    "    plt.title(titulo)\n",
    "    plt.plot(f1_valores, label=f1_leyenda)  \n",
    "    plt.plot(f2_valores, label=f2_leyenda)\n",
    "    plt.xlabel(ejex_etiqueta)\n",
    "    plt.ylabel(ejey_etiqueta)\n",
    "    plt.legend()"
   ]
  },
  {
   "cell_type": "markdown",
   "metadata": {},
   "source": [
    "# Funciones para simular de Errores"
   ]
  },
  {
   "cell_type": "markdown",
   "metadata": {},
   "source": [
    "## ACTIVIDAD 7: Función para simular un error\n",
    "Complete la función error(G) que simule un error en la red G. La función recibe una red G, elimina un nodo i aleatoreamente, puede utilizar el método choice de la librería random, vea https://www.w3schools.com/python/ref_random_choice.asp. La función devuelve la nueva red G (sin el nodo i)"
   ]
  },
  {
   "cell_type": "code",
   "execution_count": 8,
   "metadata": {},
   "outputs": [],
   "source": [
    "def error(G):\n",
    "\n",
    "    return G"
   ]
  },
  {
   "cell_type": "markdown",
   "metadata": {},
   "source": [
    "## ACTIVIDAD 8: Función para simular varios errores secuenciales\n",
    "Complete la función errores_secuenciales(G,num_errores) que recibe una red G y un entero \"num_errores\", el cuál indica la cantidad de errores que ocurrirán en la red. \n",
    "\n",
    "La función llama secuencialmente \"num_errores\" veces a la función error(G). Después de cada error almacena en un la lista \"num_cc_lista\" el número de componentes conectados de G y en otra lista la proporción del componente gigante \"prop_cg_lista\". Devuleve la tupla (num_cc_lista, prop_cg_lista). Debe utilizar a las funciones creadas en las actividades 4 y 5"
   ]
  },
  {
   "cell_type": "code",
   "execution_count": 9,
   "metadata": {},
   "outputs": [],
   "source": [
    "def errores_secuenciales(G,num_errores):\n",
    "\n",
    "    return (num_cc_lista, prop_cg_lista)"
   ]
  },
  {
   "cell_type": "markdown",
   "metadata": {},
   "source": [
    "# Funciones para simular de Ataques"
   ]
  },
  {
   "cell_type": "markdown",
   "metadata": {},
   "source": [
    "## ACTIVIDAD 9: Función para obtener el nodo de grado más alto de una red\n",
    "Complete la función nodo_mayor_grado(G) que recibe la red G y devuelve el nodo de mayor grado. "
   ]
  },
  {
   "cell_type": "code",
   "execution_count": 10,
   "metadata": {},
   "outputs": [],
   "source": [
    "def nodo_mayor_grado(G):\n",
    "\n",
    "    return nodo_max_grado"
   ]
  },
  {
   "cell_type": "markdown",
   "metadata": {},
   "source": [
    "## ACTIVIDAD 10: Función para simular un ataque por grado nodal\n",
    "Complete la función ataque_grado(G) que simule un ataque por grado nodal en la red G. La función recibe una red G, elimina el nodo i de más alto grado grado y devuelve la nueva red G (sin el nodo i). Debe utilizar la función de la actividad 9"
   ]
  },
  {
   "cell_type": "code",
   "execution_count": 11,
   "metadata": {},
   "outputs": [],
   "source": [
    "def ataque_grado(G):\n",
    "\n",
    "    return G"
   ]
  },
  {
   "cell_type": "markdown",
   "metadata": {},
   "source": [
    "## ACTIVIDAD 11: Función para simular varios ataques (por grado nodal) secuenciales\n",
    "Complete la función ataques_secuenciales(G,num_ataques). La función recibe una red G y un entero \"num_ataques\" que indica la cantidad de ataques que ocurrirán en la red. Secuencialmente llama \"num_ataques\" veces a la función ataque(G). Después de cada ataque almacena en una lista \"num_cc_lista\" el número de componentes conectados de G y en otra lista \"prop_cg_lista\" la proporción del componente gigante. Devuleve la tupla (num_cc_lista, prop_cg_lista)."
   ]
  },
  {
   "cell_type": "code",
   "execution_count": 112,
   "metadata": {},
   "outputs": [],
   "source": [
    "def ataques_secuenciales(G,num_ataques):\n",
    "\n",
    "    return (num_cc_lista, prop_cg_lista)"
   ]
  },
  {
   "cell_type": "markdown",
   "metadata": {},
   "source": [
    "# Evaluación de redes sometidas a errores - Red de escala libre vs. red de aleatoria"
   ]
  },
  {
   "cell_type": "markdown",
   "metadata": {},
   "source": [
    "## ACTIVIDAD 12: Creación de una red de escala libre \n",
    "Creamos una red de escala libre Barabasi-Albert de 100 nodos y con parámetro m=5. Imprimos la información de rede"
   ]
  },
  {
   "cell_type": "code",
   "execution_count": null,
   "metadata": {},
   "outputs": [],
   "source": []
  },
  {
   "cell_type": "markdown",
   "metadata": {},
   "source": [
    "## ACTIVIDAD 13: Creación de unaa red aleatoria\n",
    "Creamos una red aleatoria Erdos-Renyi de 100 nodos y con parámetro p=0.1. Imprimos la información de la red"
   ]
  },
  {
   "cell_type": "code",
   "execution_count": null,
   "metadata": {},
   "outputs": [],
   "source": []
  },
  {
   "cell_type": "markdown",
   "metadata": {},
   "source": [
    "## ACTIVIDAD 14: Distribución de grados\n",
    "Llama a la función para graficar las distribucion de grados de las redes creadas y guarda ambas imagenes. Cada función llamela en una celda separada de código para que así pueda visualizar ambas figuras"
   ]
  },
  {
   "cell_type": "code",
   "execution_count": null,
   "metadata": {},
   "outputs": [],
   "source": []
  },
  {
   "cell_type": "code",
   "execution_count": null,
   "metadata": {},
   "outputs": [],
   "source": []
  },
  {
   "cell_type": "markdown",
   "metadata": {},
   "source": [
    "## ACTIVIDAD 15: Mapas de calor por grado nodal\n",
    "Llama a la función para graficar los mapas de calor por grado nodal de las redes creadas y guarda ambas imagenes. Cada función llamela en una celda separada de código para que así pueda visualizar ambas figuras"
   ]
  },
  {
   "cell_type": "code",
   "execution_count": null,
   "metadata": {
    "scrolled": true
   },
   "outputs": [],
   "source": []
  },
  {
   "cell_type": "code",
   "execution_count": null,
   "metadata": {
    "scrolled": true
   },
   "outputs": [],
   "source": []
  },
  {
   "cell_type": "markdown",
   "metadata": {},
   "source": [
    "## Simulación de errores secuenciales en la red de escala libre\n",
    "Utilizando la función errores_secuenciales simula 99 errores en la red de escala libre. Almacena las listas de: cantidad de componentes conectados y las proporcion del componente gigante.\n",
    "\n",
    "Note que la función errores_secuenciales recibe como paŕametro una copia de la red que se va a evaluar, esto es importante porque de otro modo se modificará la red original."
   ]
  },
  {
   "cell_type": "code",
   "execution_count": 18,
   "metadata": {},
   "outputs": [],
   "source": [
    "ba_test = ba.copy()\n",
    "(ba_num_cc, ba_tam_cg) = errores_secuenciales(ba_test, 99)"
   ]
  },
  {
   "cell_type": "markdown",
   "metadata": {},
   "source": [
    "## ACTIVIDAD 16: Simulación de errores secuenciales en la red aleatoria\n",
    "Utilizando la función errores_secuenciales simula 99 errores en la red aleatoria. Almacena las listas de: cantidad de componentes conectados y las proporcion del componente gigante."
   ]
  },
  {
   "cell_type": "code",
   "execution_count": null,
   "metadata": {},
   "outputs": [],
   "source": []
  },
  {
   "cell_type": "markdown",
   "metadata": {},
   "source": [
    "## ACTIVIDAD 17: Grafica de los componentes conectados vs. número de errores\n",
    "Utilizando la función grafica_funciones, grafique la cantidad de componentes conectados vs el número de errroes para las pruebas realizadas sobre la red de escala libre y la red aleatoria"
   ]
  },
  {
   "cell_type": "code",
   "execution_count": null,
   "metadata": {
    "scrolled": true
   },
   "outputs": [],
   "source": []
  },
  {
   "cell_type": "markdown",
   "metadata": {},
   "source": [
    "## ACTIVIDAD 18: Grafica de la proporción del componente gigante vs. número de errores\n",
    "Utilizando la función grafica_funciones, grafique la proporción del componente gigante vs el número de errrores para las pruebas realizadas sobre la red de escala libre y la red aleatoria"
   ]
  },
  {
   "cell_type": "code",
   "execution_count": null,
   "metadata": {
    "scrolled": true
   },
   "outputs": [],
   "source": []
  },
  {
   "cell_type": "markdown",
   "metadata": {},
   "source": [
    "## ACTIVIDAD 19 Simulación de ataques (por grado nodal) secuenciales\n",
    "Utilizando la función ataques_secuenciales simula 99 ataques en cada una de las red de escala libre. Recuerde pasar como parámetro de la función una copia de la red, así como guardar los resultados que devuelve la función."
   ]
  },
  {
   "cell_type": "code",
   "execution_count": null,
   "metadata": {},
   "outputs": [],
   "source": []
  },
  {
   "cell_type": "markdown",
   "metadata": {},
   "source": [
    "## ACTIVIDAD 20 Simulación de ataques (por grado nodal) secuenciales\n",
    "Utilizando la función ataques_secuenciales simula 99 ataques en cada una de las red de escala libre. Recuerde pasar como parámetro de la función una copia de la red, así como guardar los resultados que devuelve la función."
   ]
  },
  {
   "cell_type": "code",
   "execution_count": null,
   "metadata": {},
   "outputs": [],
   "source": []
  },
  {
   "cell_type": "markdown",
   "metadata": {},
   "source": [
    "## ACTIVIDAD 21 Grafica de los componentes conectados vs. número de errores\n",
    "Utilizando la función grafica_funciones, grafique la proporción del componente gigante vs el número de errrores para las pruebas realizadas sobre la red de escala libre y la red aleatoria"
   ]
  },
  {
   "cell_type": "code",
   "execution_count": null,
   "metadata": {
    "scrolled": false
   },
   "outputs": [],
   "source": []
  },
  {
   "cell_type": "markdown",
   "metadata": {},
   "source": [
    "## ACTIVIDAD 22: Grafica de la proporción del componente gigante vs. número de errores\n",
    "Utilizando la función grafica_funciones, grafique la proporción del componente gigante vs el número de errrores para las pruebas realizadas sobre la red de escala libre y la red aleatoria"
   ]
  },
  {
   "cell_type": "code",
   "execution_count": null,
   "metadata": {
    "scrolled": true
   },
   "outputs": [],
   "source": []
  }
 ],
 "metadata": {
  "kernelspec": {
   "display_name": "Python 3",
   "language": "python",
   "name": "python3"
  },
  "language_info": {
   "codemirror_mode": {
    "name": "ipython",
    "version": 3
   },
   "file_extension": ".py",
   "mimetype": "text/x-python",
   "name": "python",
   "nbconvert_exporter": "python",
   "pygments_lexer": "ipython3",
   "version": "3.6.10"
  }
 },
 "nbformat": 4,
 "nbformat_minor": 4
}
