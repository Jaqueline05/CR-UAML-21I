{
 "cells": [
  {
   "cell_type": "markdown",
   "metadata": {},
   "source": [
    "# Importamos las librerías a utilizar"
   ]
  },
  {
   "cell_type": "code",
   "execution_count": 3,
   "metadata": {},
   "outputs": [],
   "source": [
    "#Para crear y análizar redes\n",
    "import networkx as nx\n",
    "#Para dibujary guardas gráficas de redes y funciones\n",
    "import matplotlib.pyplot as plt"
   ]
  },
  {
   "cell_type": "markdown",
   "metadata": {},
   "source": [
    "# Creación de la red"
   ]
  },
  {
   "cell_type": "markdown",
   "metadata": {},
   "source": [
    "**ACTIVIDAD 1** Complete la siguiente lista de enlaces para representar la red de amistades de la Práctica 1.\n",
    "Python distingue entre mayúsculas y minúsculas. "
   ]
  },
  {
   "cell_type": "code",
   "execution_count": 1,
   "metadata": {},
   "outputs": [],
   "source": [
    "lista_enlaces = [\n",
    "    (\"Alicia\",\"Beto\"),\n",
    "    (\"Carlos\",\"Alicia\")\n",
    "                ]"
   ]
  },
  {
   "cell_type": "markdown",
   "metadata": {},
   "source": [
    "Creamos la red y la almacenamos en la variable G"
   ]
  },
  {
   "cell_type": "code",
   "execution_count": 4,
   "metadata": {},
   "outputs": [],
   "source": [
    "G = nx.Graph(lista_enlaces)"
   ]
  },
  {
   "cell_type": "markdown",
   "metadata": {},
   "source": [
    "## Dibujamos y guardamos la red"
   ]
  },
  {
   "cell_type": "markdown",
   "metadata": {},
   "source": [
    "Dibujamos la red con nodos rosas y mostrando las etiquetas de los nodos. Depués, guardamos la red en el archivo amigos.png"
   ]
  },
  {
   "cell_type": "code",
   "execution_count": 5,
   "metadata": {},
   "outputs": [
    {
     "data": {
      "image/png": "[encoded data removed]",
      "text/plain": [
       "<Figure size 432x288 with 1 Axes>"
      ]
     },
     "metadata": {},
     "output_type": "display_data"
    }
   ],
   "source": [
    "nx.draw(G,with_labels=True,node_color=\"pink\")\n",
    "plt.savefig(\"amigos.png\")"
   ]
  },
  {
   "cell_type": "markdown",
   "metadata": {},
   "source": [
    "**ACTIVIDAD 2** Dibuje la red con nodos azules y sin mostrar las etiquetas de nodos "
   ]
  },
  {
   "cell_type": "code",
   "execution_count": null,
   "metadata": {},
   "outputs": [],
   "source": []
  },
  {
   "cell_type": "markdown",
   "metadata": {},
   "source": [
    "**ACTIVIDAD 3** Dibuje la red con nodos verdes y mostrando las etiquetas de nodos "
   ]
  },
  {
   "cell_type": "code",
   "execution_count": null,
   "metadata": {},
   "outputs": [],
   "source": []
  },
  {
   "cell_type": "markdown",
   "metadata": {},
   "source": [
    "# Nodos y enlaces"
   ]
  },
  {
   "cell_type": "markdown",
   "metadata": {},
   "source": [
    "## Nodos"
   ]
  },
  {
   "cell_type": "markdown",
   "metadata": {},
   "source": [
    "Guardamos la lista de nodos en la variable nodos y la MOSTRAMOS"
   ]
  },
  {
   "cell_type": "code",
   "execution_count": 7,
   "metadata": {},
   "outputs": [
    {
     "data": {
      "text/plain": [
       "NodeView(('Alicia', 'Beto', 'Carlos'))"
      ]
     },
     "execution_count": 7,
     "metadata": {},
     "output_type": "execute_result"
    }
   ],
   "source": [
    "nodos = nx.nodes(G)\n",
    "nodos"
   ]
  },
  {
   "cell_type": "markdown",
   "metadata": {},
   "source": [
    "Guardamos el tamaño de la lista de enlaces en la variable n y la MOSTRAMOS"
   ]
  },
  {
   "cell_type": "code",
   "execution_count": 8,
   "metadata": {},
   "outputs": [
    {
     "data": {
      "text/plain": [
       "3"
      ]
     },
     "execution_count": 8,
     "metadata": {},
     "output_type": "execute_result"
    }
   ],
   "source": [
    "n = len(nodos)\n",
    "n"
   ]
  },
  {
   "cell_type": "markdown",
   "metadata": {},
   "source": [
    "## Enlaces"
   ]
  },
  {
   "cell_type": "markdown",
   "metadata": {},
   "source": [
    "**ACTIVIDAD 4** Guarde la lista de enlaces en una variable enlaces y muestrela "
   ]
  },
  {
   "cell_type": "code",
   "execution_count": null,
   "metadata": {},
   "outputs": [],
   "source": []
  },
  {
   "cell_type": "markdown",
   "metadata": {},
   "source": [
    "**ACTIVIDAD 5** Guarde el tamaño de la lista de enlaces en una variable m y muestrela"
   ]
  },
  {
   "cell_type": "code",
   "execution_count": null,
   "metadata": {},
   "outputs": [],
   "source": []
  },
  {
   "cell_type": "markdown",
   "metadata": {},
   "source": [
    "# Distancias y caminos"
   ]
  },
  {
   "cell_type": "markdown",
   "metadata": {},
   "source": [
    "## Distancia y camino entre 2 personas\n",
    "La distancia entre 2 nodos es el la longitud del camino más corto\n",
    "### Beto y Carlos\n",
    "Calculamos uno de los caminos mas cortos entre Carlos e Irene y lo IMPRIMOS"
   ]
  },
  {
   "cell_type": "code",
   "execution_count": 10,
   "metadata": {},
   "outputs": [
    {
     "name": "stdout",
     "output_type": "stream",
     "text": [
      "El camino más corto entre Beto y CArlos ['Beto', 'Alicia', 'Carlos']\n"
     ]
    }
   ],
   "source": [
    "camino = nx.shortest_path(G,\"Beto\",\"Carlos\")\n",
    "print(\"El camino más corto entre Beto y CArlos \" + str(camino))"
   ]
  },
  {
   "cell_type": "markdown",
   "metadata": {},
   "source": [
    "Calculamos la distancia entre Beto y Carlos y la IMPRIMOS"
   ]
  },
  {
   "cell_type": "code",
   "execution_count": 12,
   "metadata": {
    "scrolled": true
   },
   "outputs": [
    {
     "name": "stdout",
     "output_type": "stream",
     "text": [
      "La distancia entre Beto y Carlos es 2\n"
     ]
    }
   ],
   "source": [
    "distancia = nx.shortest_path_length(G,\"Beto\",\"Carlos\")\n",
    "print(\"La distancia entre Beto y Carlos es \" + str(distancia))"
   ]
  },
  {
   "cell_type": "markdown",
   "metadata": {},
   "source": [
    "Calculamos TODOS los caminos mas cortos entre Carlos y Beto, los guardamos en la variable caminos"
   ]
  },
  {
   "cell_type": "code",
   "execution_count": 13,
   "metadata": {},
   "outputs": [],
   "source": [
    "caminos = nx.all_shortest_paths(G,\"Carlos\",\"Beto\")"
   ]
  },
  {
   "cell_type": "markdown",
   "metadata": {},
   "source": [
    "Con ayuda de un ciclo for imprimos todos los caminos entre Carlos y Beto"
   ]
  },
  {
   "cell_type": "code",
   "execution_count": 42,
   "metadata": {},
   "outputs": [
    {
     "name": "stdout",
     "output_type": "stream",
     "text": [
      "El camino más corto entre Carlos y Enrique ['Carlos', 'Alicia', 'Beto', 'Jorge', 'Enrique']\n",
      "El camino más corto entre Carlos y Enrique ['Carlos', 'Alicia', 'Carmen', 'Irene', 'Enrique']\n",
      "El camino más corto entre Carlos y Enrique ['Carlos', 'Monica', 'Carmen', 'Irene', 'Enrique']\n"
     ]
    }
   ],
   "source": [
    "for camino in caminos: \n",
    "    print(\"El camino más corto entre Carlos y Beto \" + str(camino))"
   ]
  },
  {
   "cell_type": "markdown",
   "metadata": {},
   "source": [
    "### Carlos e Irene"
   ]
  },
  {
   "cell_type": "markdown",
   "metadata": {},
   "source": [
    "**ACTIVIDAD 6** Repita los calculos realizados para Carlos y Beto, pero ahora para Carlos e Irene"
   ]
  },
  {
   "cell_type": "code",
   "execution_count": null,
   "metadata": {},
   "outputs": [],
   "source": []
  },
  {
   "cell_type": "markdown",
   "metadata": {},
   "source": [
    "### Carlos y Enrique"
   ]
  },
  {
   "cell_type": "markdown",
   "metadata": {},
   "source": [
    "**ACTIVIDAD 7** Repita los calculos realizados para Carlos y Beto, pero ahora para Carlos e Enrique"
   ]
  },
  {
   "cell_type": "code",
   "execution_count": null,
   "metadata": {},
   "outputs": [],
   "source": []
  },
  {
   "cell_type": "markdown",
   "metadata": {},
   "source": [
    "## Funcion para mostrar los caminos (más cortos) y distancia"
   ]
  },
  {
   "cell_type": "markdown",
   "metadata": {},
   "source": [
    "La siguiente funcion recibe como parametros los nodos: nodo1 y nodo2 e imprime los caminos mas cortos entre ellos. La funcion devuelve la distancia entre el nodo1 y el nodo2"
   ]
  },
  {
   "cell_type": "code",
   "execution_count": 14,
   "metadata": {},
   "outputs": [],
   "source": [
    "def cam_dist(nodo1,nodo2):\n",
    "    \"\"\"\n",
    "    Recibe como parametros los nodos: nodo1 y nodo2\n",
    "    Imprime los caminos mas cortos entre nodo1 y nodo2 \n",
    "    Devuelve la distancia entre el nodo1 y el nodo2\n",
    "    \"\"\"\n",
    "    caminos = nx.all_shortest_paths(G, nodo1, nodo2)\n",
    "    for camino in caminos: \n",
    "        print(\"Uno de los caminos más corto entre \" + nodo1 + \" y \" + nodo2 +\" es \" + str(camino))\n",
    "    distancia = nx.shortest_path_length(G, nodo1, nodo2)\n",
    "    return distancia"
   ]
  },
  {
   "cell_type": "markdown",
   "metadata": {},
   "source": [
    "Utilizamos las funciones para mostrar caminos y distancias"
   ]
  },
  {
   "cell_type": "code",
   "execution_count": 16,
   "metadata": {},
   "outputs": [
    {
     "name": "stdout",
     "output_type": "stream",
     "text": [
      "Uno de los caminos más corto entre Beto y Carlos es ['Beto', 'Alicia', 'Carlos']\n"
     ]
    },
    {
     "data": {
      "text/plain": [
       "2"
      ]
     },
     "execution_count": 16,
     "metadata": {},
     "output_type": "execute_result"
    }
   ],
   "source": [
    "dist_BetoCarlos = cam_dist(\"Beto\",\"Carlos\")\n",
    "dist_BetoCarlos"
   ]
  },
  {
   "cell_type": "markdown",
   "metadata": {},
   "source": [
    "## Diámetro\n",
    "Distancia más larga entre dos nodos"
   ]
  },
  {
   "cell_type": "code",
   "execution_count": 6,
   "metadata": {
    "scrolled": true
   },
   "outputs": [
    {
     "name": "stdout",
     "output_type": "stream",
     "text": [
      "El diámetero de la red es 4\n"
     ]
    }
   ],
   "source": [
    "diametro = nx.diameter(G)\n",
    "print(\"El diámetero de la red es \" + str(diametro))"
   ]
  },
  {
   "cell_type": "markdown",
   "metadata": {},
   "source": [
    "## Distancia promedio"
   ]
  },
  {
   "cell_type": "code",
   "execution_count": 8,
   "metadata": {},
   "outputs": [
    {
     "name": "stdout",
     "output_type": "stream",
     "text": [
      "La distancia promedio es 2.022222222222222\n"
     ]
    }
   ],
   "source": [
    "prom_dist = nx.average_shortest_path_length(G)\n",
    "print(\"La distancia promedio es \" + str(prom_dist))"
   ]
  },
  {
   "cell_type": "markdown",
   "metadata": {},
   "source": [
    "## Funcion para calcular la distancia promedio y diametro de una red"
   ]
  },
  {
   "cell_type": "markdown",
   "metadata": {},
   "source": [
    "**ACTIVIDAD 8** Cree una funcion recibe como parametros una red G, que imprima el diámetro y la distancia promedio de G. La funcion debe devolver la distancia promedio de G"
   ]
  },
  {
   "cell_type": "code",
   "execution_count": null,
   "metadata": {},
   "outputs": [],
   "source": []
  },
  {
   "cell_type": "markdown",
   "metadata": {},
   "source": [
    "**ACTIVIDAD 9** Llame a la función de la actividad 7, para imprimir el diámetro y la distancia de la red creada"
   ]
  },
  {
   "cell_type": "code",
   "execution_count": null,
   "metadata": {},
   "outputs": [],
   "source": []
  }
 ],
 "metadata": {
  "kernelspec": {
   "display_name": "Python 3",
   "language": "python",
   "name": "python3"
  },
  "language_info": {
   "codemirror_mode": {
    "name": "ipython",
    "version": 3
   },
   "file_extension": ".py",
   "mimetype": "text/x-python",
   "name": "python",
   "nbconvert_exporter": "python",
   "pygments_lexer": "ipython3",
   "version": "3.6.10"
  }
 },
 "nbformat": 4,
 "nbformat_minor": 4
}
